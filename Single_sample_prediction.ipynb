{
 "cells": [
  {
   "cell_type": "code",
   "execution_count": 1,
   "id": "23eaabe8",
   "metadata": {},
   "outputs": [],
   "source": [
    "import pandas as pd\n",
    "import pickle"
   ]
  },
  {
   "cell_type": "code",
   "execution_count": 2,
   "id": "28f230ce",
   "metadata": {},
   "outputs": [],
   "source": [
    "model_pk=pickle.load(open('housing.pkl','rb'))"
   ]
  },
  {
   "cell_type": "code",
   "execution_count": 3,
   "id": "b02020c8",
   "metadata": {},
   "outputs": [],
   "source": [
    "sc=pickle.load(open('standardize.pkl','rb'))"
   ]
  },
  {
   "cell_type": "code",
   "execution_count": 4,
   "id": "a395ed7d",
   "metadata": {},
   "outputs": [],
   "source": [
    "my_sample={'Avg. Area Income': 79500, 'Avg. Area House Age': 7, 'Avg. Area Number of Rooms':5, \n",
    "           'Avg. Area Number of Bedrooms': 3, 'Area Population': 23000}\n",
    "my_sample=pd.DataFrame([my_sample])\n"
   ]
  },
  {
   "cell_type": "code",
   "execution_count": 5,
   "id": "e0122785",
   "metadata": {},
   "outputs": [],
   "source": [
    "my_sample_scaled = sc.transform(my_sample)\n",
    "my_sample = my_sample_scaled"
   ]
  },
  {
   "cell_type": "code",
   "execution_count": 6,
   "id": "8c03ceb7",
   "metadata": {},
   "outputs": [
    {
     "name": "stderr",
     "output_type": "stream",
     "text": [
      "C:\\Users\\monah\\AppData\\Roaming\\Python\\Python38\\site-packages\\sklearn\\base.py:409: UserWarning: X does not have valid feature names, but LinearRegression was fitted with feature names\n",
      "  warnings.warn(\n"
     ]
    },
    {
     "data": {
      "text/plain": [
       "array([1192525.53724609])"
      ]
     },
     "execution_count": 6,
     "metadata": {},
     "output_type": "execute_result"
    }
   ],
   "source": [
    "model_pk.predict(my_sample)"
   ]
  },
  {
   "cell_type": "code",
   "execution_count": null,
   "id": "08bb303e",
   "metadata": {},
   "outputs": [],
   "source": []
  }
 ],
 "metadata": {
  "kernelspec": {
   "display_name": "Python 3 (ipykernel)",
   "language": "python",
   "name": "python3"
  },
  "language_info": {
   "codemirror_mode": {
    "name": "ipython",
    "version": 3
   },
   "file_extension": ".py",
   "mimetype": "text/x-python",
   "name": "python",
   "nbconvert_exporter": "python",
   "pygments_lexer": "ipython3",
   "version": "3.8.3"
  }
 },
 "nbformat": 4,
 "nbformat_minor": 5
}
